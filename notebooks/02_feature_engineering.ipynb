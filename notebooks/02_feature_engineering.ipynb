{
 "cells": [
  {
   "cell_type": "markdown",
   "id": "125f5d88-281c-4134-9455-b50b19567618",
   "metadata": {},
   "source": [
    "## Feture Engineering \n"
   ]
  },
  {
   "cell_type": "code",
   "execution_count": 1,
   "id": "202cc9c6-9cda-46f2-850e-7e25647cf097",
   "metadata": {},
   "outputs": [
    {
     "name": "stdout",
     "output_type": "stream",
     "text": [
      "     temp  rain_1h  snow_1h  clouds_all            date_time  traffic_volume  \\\n",
      "0  288.28      0.0      0.0          40  2012-10-02 09:00:00            5545   \n",
      "1  289.36      0.0      0.0          75  2012-10-02 10:00:00            4516   \n",
      "2  289.58      0.0      0.0          90  2012-10-02 11:00:00            4767   \n",
      "3  290.13      0.0      0.0          90  2012-10-02 12:00:00            5026   \n",
      "4  291.14      0.0      0.0          75  2012-10-02 13:00:00            4918   \n",
      "\n",
      "   hour  day  month  dayofweek  ...  weather_description_sleet  \\\n",
      "0     9    2     10          1  ...                      False   \n",
      "1    10    2     10          1  ...                      False   \n",
      "2    11    2     10          1  ...                      False   \n",
      "3    12    2     10          1  ...                      False   \n",
      "4    13    2     10          1  ...                      False   \n",
      "\n",
      "   weather_description_smoke  weather_description_snow  \\\n",
      "0                      False                     False   \n",
      "1                      False                     False   \n",
      "2                      False                     False   \n",
      "3                      False                     False   \n",
      "4                      False                     False   \n",
      "\n",
      "   weather_description_thunderstorm  \\\n",
      "0                             False   \n",
      "1                             False   \n",
      "2                             False   \n",
      "3                             False   \n",
      "4                             False   \n",
      "\n",
      "   weather_description_thunderstorm with drizzle  \\\n",
      "0                                          False   \n",
      "1                                          False   \n",
      "2                                          False   \n",
      "3                                          False   \n",
      "4                                          False   \n",
      "\n",
      "   weather_description_thunderstorm with heavy rain  \\\n",
      "0                                             False   \n",
      "1                                             False   \n",
      "2                                             False   \n",
      "3                                             False   \n",
      "4                                             False   \n",
      "\n",
      "   weather_description_thunderstorm with light drizzle  \\\n",
      "0                                              False     \n",
      "1                                              False     \n",
      "2                                              False     \n",
      "3                                              False     \n",
      "4                                              False     \n",
      "\n",
      "   weather_description_thunderstorm with light rain  \\\n",
      "0                                             False   \n",
      "1                                             False   \n",
      "2                                             False   \n",
      "3                                             False   \n",
      "4                                             False   \n",
      "\n",
      "   weather_description_thunderstorm with rain  \\\n",
      "0                                       False   \n",
      "1                                       False   \n",
      "2                                       False   \n",
      "3                                       False   \n",
      "4                                       False   \n",
      "\n",
      "   weather_description_very heavy rain  \n",
      "0                                False  \n",
      "1                                False  \n",
      "2                                False  \n",
      "3                                False  \n",
      "4                                False  \n",
      "\n",
      "[5 rows x 68 columns]\n"
     ]
    }
   ],
   "source": [
    "import pandas as pd\n",
    "\n",
    "df = pd.read_csv(\"../data/cleaned/cleanedMITV.csv\")\n",
    "print(df.head())\n"
   ]
  },
  {
   "cell_type": "code",
   "execution_count": 3,
   "id": "7a70c787-137a-4afa-bae9-36a92523bc15",
   "metadata": {},
   "outputs": [],
   "source": [
    "df['is_weekend'] = df['dayofweek'].apply(lambda x: 1 if x >= 5 else 0)\n"
   ]
  },
  {
   "cell_type": "code",
   "execution_count": 4,
   "id": "02d32be2-43d5-4428-8f29-bffcdfbeb8e0",
   "metadata": {},
   "outputs": [],
   "source": [
    "df['is_peak_hour'] = df['hour'].apply(lambda x: 1 if (7 <= x <= 9) or (16 <= x <= 18) else 0)\n"
   ]
  },
  {
   "cell_type": "code",
   "execution_count": 5,
   "id": "75ac0393-de48-4305-b2a0-0d3552c28c13",
   "metadata": {},
   "outputs": [],
   "source": [
    "df['weather_severity'] = df['rain_1h'] + df['snow_1h']\n"
   ]
  },
  {
   "cell_type": "code",
   "execution_count": 6,
   "id": "91d71b00-0879-4608-b540-7d12aaa1623c",
   "metadata": {},
   "outputs": [],
   "source": [
    "df.to_csv(\"../data/cleaned/final_engineered_MITV.csv\", index=False)\n"
   ]
  }
 ],
 "metadata": {
  "kernelspec": {
   "display_name": "Python 3 (ipykernel)",
   "language": "python",
   "name": "python3"
  },
  "language_info": {
   "codemirror_mode": {
    "name": "ipython",
    "version": 3
   },
   "file_extension": ".py",
   "mimetype": "text/x-python",
   "name": "python",
   "nbconvert_exporter": "python",
   "pygments_lexer": "ipython3",
   "version": "3.13.1"
  }
 },
 "nbformat": 4,
 "nbformat_minor": 5
}
